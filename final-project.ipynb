{
 "cells": [
  {
   "cell_type": "code",
   "execution_count": 1,
   "id": "301d43da",
   "metadata": {
    "_cell_guid": "b1076dfc-b9ad-4769-8c92-a6c4dae69d19",
    "_uuid": "8f2839f25d086af736a60e9eeb907d3b93b6e0e5",
    "execution": {
     "iopub.execute_input": "2025-05-12T16:34:01.300112Z",
     "iopub.status.busy": "2025-05-12T16:34:01.299723Z",
     "iopub.status.idle": "2025-05-12T16:34:02.209471Z",
     "shell.execute_reply": "2025-05-12T16:34:02.208330Z"
    },
    "papermill": {
     "duration": 0.923706,
     "end_time": "2025-05-12T16:34:02.211278",
     "exception": false,
     "start_time": "2025-05-12T16:34:01.287572",
     "status": "completed"
    },
    "tags": []
   },
   "outputs": [
    {
     "name": "stdout",
     "output_type": "stream",
     "text": [
      "/kaggle/input/bikedata/SeoulBikeData.csv\n"
     ]
    }
   ],
   "source": [
    "# This Python 3 environment comes with many helpful analytics libraries installed\n",
    "# It is defined by the kaggle/python Docker image: https://github.com/kaggle/docker-python\n",
    "# For example, here's several helpful packages to load\n",
    "\n",
    "import numpy as np # linear algebra\n",
    "import pandas as pd # data processing, CSV file I/O (e.g. pd.read_csv)\n",
    "\n",
    "# Input data files are available in the read-only \"../input/\" directory\n",
    "# For example, running this (by clicking run or pressing Shift+Enter) will list all files under the input directory\n",
    "\n",
    "import os\n",
    "for dirname, _, filenames in os.walk('/kaggle/input'):\n",
    "    for filename in filenames:\n",
    "        print(os.path.join(dirname, filename))\n",
    "\n",
    "# You can write up to 20GB to the current directory (/kaggle/working/) that gets preserved as output when you create a version using \"Save & Run All\" \n",
    "# You can also write temporary files to /kaggle/temp/, but they won't be saved outside of the current session"
   ]
  },
  {
   "cell_type": "markdown",
   "id": "fa05932b",
   "metadata": {
    "papermill": {
     "duration": 0.009906,
     "end_time": "2025-05-12T16:34:02.231751",
     "exception": false,
     "start_time": "2025-05-12T16:34:02.221845",
     "status": "completed"
    },
    "tags": []
   },
   "source": [
    "# Motivation"
   ]
  },
  {
   "cell_type": "markdown",
   "id": "846fc1a9",
   "metadata": {
    "papermill": {
     "duration": 0.009654,
     "end_time": "2025-05-12T16:34:02.252074",
     "exception": false,
     "start_time": "2025-05-12T16:34:02.242420",
     "status": "completed"
    },
    "tags": []
   },
   "source": [
    "In this machine learning problem, I will be using regression with the Seoul Bike Sharing data set in order to predict bike count required to provide a stable supply of rental bikes. Rental bikes have become an important form of public transportation in many major cities. Machine learning can help us predict the amount of bikes needed in order to lessen wait times for the public. This data set includes weather information(Temperature, Humidity, Windspeed, Visibility, Dewpoint, Solar radiation, Snowfall, Rainfall), date information, and the number of bikes rented per hour. This is a good machine learning problem because it saves time, money, and predicts future outcomes using past data. "
   ]
  },
  {
   "cell_type": "markdown",
   "id": "9bf2d22a",
   "metadata": {
    "papermill": {
     "duration": 0.009748,
     "end_time": "2025-05-12T16:34:02.271969",
     "exception": false,
     "start_time": "2025-05-12T16:34:02.262221",
     "status": "completed"
    },
    "tags": []
   },
   "source": [
    "# Exploratory Analysis"
   ]
  },
  {
   "cell_type": "markdown",
   "id": "6c565a64",
   "metadata": {
    "papermill": {
     "duration": 0.0096,
     "end_time": "2025-05-12T16:34:02.291460",
     "exception": false,
     "start_time": "2025-05-12T16:34:02.281860",
     "status": "completed"
    },
    "tags": []
   },
   "source": [
    "**Importing Necessary Libraries:**"
   ]
  },
  {
   "cell_type": "code",
   "execution_count": 2,
   "id": "4704c7fc",
   "metadata": {
    "execution": {
     "iopub.execute_input": "2025-05-12T16:34:02.312811Z",
     "iopub.status.busy": "2025-05-12T16:34:02.312328Z",
     "iopub.status.idle": "2025-05-12T16:34:04.656390Z",
     "shell.execute_reply": "2025-05-12T16:34:04.655480Z"
    },
    "papermill": {
     "duration": 2.356492,
     "end_time": "2025-05-12T16:34:04.658112",
     "exception": false,
     "start_time": "2025-05-12T16:34:02.301620",
     "status": "completed"
    },
    "tags": []
   },
   "outputs": [],
   "source": [
    "from sklearn.model_selection import train_test_split\n",
    "import pandas as pd\n",
    "import numpy as np\n",
    "import matplotlib.pyplot as plt\n",
    "import seaborn as sns\n",
    "from sklearn.preprocessing import StandardScaler\n",
    "from sklearn.linear_model import ElasticNet, LinearRegression\n",
    "from sklearn.decomposition import PCA\n",
    "from sklearn.ensemble import RandomForestRegressor\n",
    "from sklearn.model_selection import GridSearchCV, KFold, cross_val_score\n",
    "from sklearn.metrics import mean_squared_error\n",
    "from sklearn.impute import SimpleImputer\n",
    "from sklearn.pipeline import Pipeline\n",
    "import warnings\n",
    "warnings.filterwarnings('ignore')"
   ]
  },
  {
   "cell_type": "markdown",
   "id": "9d67c9b9",
   "metadata": {
    "papermill": {
     "duration": 0.009744,
     "end_time": "2025-05-12T16:34:04.678170",
     "exception": false,
     "start_time": "2025-05-12T16:34:04.668426",
     "status": "completed"
    },
    "tags": []
   },
   "source": [
    "# Importing the Data"
   ]
  },
  {
   "cell_type": "code",
   "execution_count": 3,
   "id": "4129d2df",
   "metadata": {
    "execution": {
     "iopub.execute_input": "2025-05-12T16:34:04.699818Z",
     "iopub.status.busy": "2025-05-12T16:34:04.699286Z",
     "iopub.status.idle": "2025-05-12T16:34:04.747736Z",
     "shell.execute_reply": "2025-05-12T16:34:04.746747Z"
    },
    "papermill": {
     "duration": 0.061258,
     "end_time": "2025-05-12T16:34:04.749553",
     "exception": false,
     "start_time": "2025-05-12T16:34:04.688295",
     "status": "completed"
    },
    "tags": []
   },
   "outputs": [],
   "source": [
    "bikedata = pd.read_csv('/kaggle/input/bikedata/SeoulBikeData.csv', encoding='utf-8', encoding_errors='ignore')"
   ]
  },
  {
   "cell_type": "code",
   "execution_count": 4,
   "id": "5cd56341",
   "metadata": {
    "execution": {
     "iopub.execute_input": "2025-05-12T16:34:04.771612Z",
     "iopub.status.busy": "2025-05-12T16:34:04.771222Z",
     "iopub.status.idle": "2025-05-12T16:34:04.810519Z",
     "shell.execute_reply": "2025-05-12T16:34:04.809526Z"
    },
    "papermill": {
     "duration": 0.052355,
     "end_time": "2025-05-12T16:34:04.812481",
     "exception": false,
     "start_time": "2025-05-12T16:34:04.760126",
     "status": "completed"
    },
    "tags": []
   },
   "outputs": [
    {
     "data": {
      "text/html": [
       "<div>\n",
       "<style scoped>\n",
       "    .dataframe tbody tr th:only-of-type {\n",
       "        vertical-align: middle;\n",
       "    }\n",
       "\n",
       "    .dataframe tbody tr th {\n",
       "        vertical-align: top;\n",
       "    }\n",
       "\n",
       "    .dataframe thead th {\n",
       "        text-align: right;\n",
       "    }\n",
       "</style>\n",
       "<table border=\"1\" class=\"dataframe\">\n",
       "  <thead>\n",
       "    <tr style=\"text-align: right;\">\n",
       "      <th></th>\n",
       "      <th>Date</th>\n",
       "      <th>Rented Bike Count</th>\n",
       "      <th>Hour</th>\n",
       "      <th>Temperature(C)</th>\n",
       "      <th>Humidity(%)</th>\n",
       "      <th>Wind speed (m/s)</th>\n",
       "      <th>Visibility (10m)</th>\n",
       "      <th>Dew point temperature(C)</th>\n",
       "      <th>Solar Radiation (MJ/m2)</th>\n",
       "      <th>Rainfall(mm)</th>\n",
       "      <th>Snowfall (cm)</th>\n",
       "      <th>Seasons</th>\n",
       "      <th>Holiday</th>\n",
       "      <th>Functioning Day</th>\n",
       "    </tr>\n",
       "  </thead>\n",
       "  <tbody>\n",
       "    <tr>\n",
       "      <th>0</th>\n",
       "      <td>01/12/2017</td>\n",
       "      <td>254</td>\n",
       "      <td>0</td>\n",
       "      <td>-5.2</td>\n",
       "      <td>37</td>\n",
       "      <td>2.2</td>\n",
       "      <td>2000</td>\n",
       "      <td>-17.6</td>\n",
       "      <td>0.0</td>\n",
       "      <td>0.0</td>\n",
       "      <td>0.0</td>\n",
       "      <td>Winter</td>\n",
       "      <td>No Holiday</td>\n",
       "      <td>Yes</td>\n",
       "    </tr>\n",
       "    <tr>\n",
       "      <th>1</th>\n",
       "      <td>01/12/2017</td>\n",
       "      <td>204</td>\n",
       "      <td>1</td>\n",
       "      <td>-5.5</td>\n",
       "      <td>38</td>\n",
       "      <td>0.8</td>\n",
       "      <td>2000</td>\n",
       "      <td>-17.6</td>\n",
       "      <td>0.0</td>\n",
       "      <td>0.0</td>\n",
       "      <td>0.0</td>\n",
       "      <td>Winter</td>\n",
       "      <td>No Holiday</td>\n",
       "      <td>Yes</td>\n",
       "    </tr>\n",
       "    <tr>\n",
       "      <th>2</th>\n",
       "      <td>01/12/2017</td>\n",
       "      <td>173</td>\n",
       "      <td>2</td>\n",
       "      <td>-6.0</td>\n",
       "      <td>39</td>\n",
       "      <td>1.0</td>\n",
       "      <td>2000</td>\n",
       "      <td>-17.7</td>\n",
       "      <td>0.0</td>\n",
       "      <td>0.0</td>\n",
       "      <td>0.0</td>\n",
       "      <td>Winter</td>\n",
       "      <td>No Holiday</td>\n",
       "      <td>Yes</td>\n",
       "    </tr>\n",
       "    <tr>\n",
       "      <th>3</th>\n",
       "      <td>01/12/2017</td>\n",
       "      <td>107</td>\n",
       "      <td>3</td>\n",
       "      <td>-6.2</td>\n",
       "      <td>40</td>\n",
       "      <td>0.9</td>\n",
       "      <td>2000</td>\n",
       "      <td>-17.6</td>\n",
       "      <td>0.0</td>\n",
       "      <td>0.0</td>\n",
       "      <td>0.0</td>\n",
       "      <td>Winter</td>\n",
       "      <td>No Holiday</td>\n",
       "      <td>Yes</td>\n",
       "    </tr>\n",
       "    <tr>\n",
       "      <th>4</th>\n",
       "      <td>01/12/2017</td>\n",
       "      <td>78</td>\n",
       "      <td>4</td>\n",
       "      <td>-6.0</td>\n",
       "      <td>36</td>\n",
       "      <td>2.3</td>\n",
       "      <td>2000</td>\n",
       "      <td>-18.6</td>\n",
       "      <td>0.0</td>\n",
       "      <td>0.0</td>\n",
       "      <td>0.0</td>\n",
       "      <td>Winter</td>\n",
       "      <td>No Holiday</td>\n",
       "      <td>Yes</td>\n",
       "    </tr>\n",
       "    <tr>\n",
       "      <th>...</th>\n",
       "      <td>...</td>\n",
       "      <td>...</td>\n",
       "      <td>...</td>\n",
       "      <td>...</td>\n",
       "      <td>...</td>\n",
       "      <td>...</td>\n",
       "      <td>...</td>\n",
       "      <td>...</td>\n",
       "      <td>...</td>\n",
       "      <td>...</td>\n",
       "      <td>...</td>\n",
       "      <td>...</td>\n",
       "      <td>...</td>\n",
       "      <td>...</td>\n",
       "    </tr>\n",
       "    <tr>\n",
       "      <th>8755</th>\n",
       "      <td>30/11/2018</td>\n",
       "      <td>1003</td>\n",
       "      <td>19</td>\n",
       "      <td>4.2</td>\n",
       "      <td>34</td>\n",
       "      <td>2.6</td>\n",
       "      <td>1894</td>\n",
       "      <td>-10.3</td>\n",
       "      <td>0.0</td>\n",
       "      <td>0.0</td>\n",
       "      <td>0.0</td>\n",
       "      <td>Autumn</td>\n",
       "      <td>No Holiday</td>\n",
       "      <td>Yes</td>\n",
       "    </tr>\n",
       "    <tr>\n",
       "      <th>8756</th>\n",
       "      <td>30/11/2018</td>\n",
       "      <td>764</td>\n",
       "      <td>20</td>\n",
       "      <td>3.4</td>\n",
       "      <td>37</td>\n",
       "      <td>2.3</td>\n",
       "      <td>2000</td>\n",
       "      <td>-9.9</td>\n",
       "      <td>0.0</td>\n",
       "      <td>0.0</td>\n",
       "      <td>0.0</td>\n",
       "      <td>Autumn</td>\n",
       "      <td>No Holiday</td>\n",
       "      <td>Yes</td>\n",
       "    </tr>\n",
       "    <tr>\n",
       "      <th>8757</th>\n",
       "      <td>30/11/2018</td>\n",
       "      <td>694</td>\n",
       "      <td>21</td>\n",
       "      <td>2.6</td>\n",
       "      <td>39</td>\n",
       "      <td>0.3</td>\n",
       "      <td>1968</td>\n",
       "      <td>-9.9</td>\n",
       "      <td>0.0</td>\n",
       "      <td>0.0</td>\n",
       "      <td>0.0</td>\n",
       "      <td>Autumn</td>\n",
       "      <td>No Holiday</td>\n",
       "      <td>Yes</td>\n",
       "    </tr>\n",
       "    <tr>\n",
       "      <th>8758</th>\n",
       "      <td>30/11/2018</td>\n",
       "      <td>712</td>\n",
       "      <td>22</td>\n",
       "      <td>2.1</td>\n",
       "      <td>41</td>\n",
       "      <td>1.0</td>\n",
       "      <td>1859</td>\n",
       "      <td>-9.8</td>\n",
       "      <td>0.0</td>\n",
       "      <td>0.0</td>\n",
       "      <td>0.0</td>\n",
       "      <td>Autumn</td>\n",
       "      <td>No Holiday</td>\n",
       "      <td>Yes</td>\n",
       "    </tr>\n",
       "    <tr>\n",
       "      <th>8759</th>\n",
       "      <td>30/11/2018</td>\n",
       "      <td>584</td>\n",
       "      <td>23</td>\n",
       "      <td>1.9</td>\n",
       "      <td>43</td>\n",
       "      <td>1.3</td>\n",
       "      <td>1909</td>\n",
       "      <td>-9.3</td>\n",
       "      <td>0.0</td>\n",
       "      <td>0.0</td>\n",
       "      <td>0.0</td>\n",
       "      <td>Autumn</td>\n",
       "      <td>No Holiday</td>\n",
       "      <td>Yes</td>\n",
       "    </tr>\n",
       "  </tbody>\n",
       "</table>\n",
       "<p>8760 rows × 14 columns</p>\n",
       "</div>"
      ],
      "text/plain": [
       "            Date  Rented Bike Count  Hour  Temperature(C)  Humidity(%)  \\\n",
       "0     01/12/2017                254     0            -5.2           37   \n",
       "1     01/12/2017                204     1            -5.5           38   \n",
       "2     01/12/2017                173     2            -6.0           39   \n",
       "3     01/12/2017                107     3            -6.2           40   \n",
       "4     01/12/2017                 78     4            -6.0           36   \n",
       "...          ...                ...   ...             ...          ...   \n",
       "8755  30/11/2018               1003    19             4.2           34   \n",
       "8756  30/11/2018                764    20             3.4           37   \n",
       "8757  30/11/2018                694    21             2.6           39   \n",
       "8758  30/11/2018                712    22             2.1           41   \n",
       "8759  30/11/2018                584    23             1.9           43   \n",
       "\n",
       "      Wind speed (m/s)  Visibility (10m)  Dew point temperature(C)  \\\n",
       "0                  2.2              2000                     -17.6   \n",
       "1                  0.8              2000                     -17.6   \n",
       "2                  1.0              2000                     -17.7   \n",
       "3                  0.9              2000                     -17.6   \n",
       "4                  2.3              2000                     -18.6   \n",
       "...                ...               ...                       ...   \n",
       "8755               2.6              1894                     -10.3   \n",
       "8756               2.3              2000                      -9.9   \n",
       "8757               0.3              1968                      -9.9   \n",
       "8758               1.0              1859                      -9.8   \n",
       "8759               1.3              1909                      -9.3   \n",
       "\n",
       "      Solar Radiation (MJ/m2)  Rainfall(mm)  Snowfall (cm) Seasons  \\\n",
       "0                         0.0           0.0            0.0  Winter   \n",
       "1                         0.0           0.0            0.0  Winter   \n",
       "2                         0.0           0.0            0.0  Winter   \n",
       "3                         0.0           0.0            0.0  Winter   \n",
       "4                         0.0           0.0            0.0  Winter   \n",
       "...                       ...           ...            ...     ...   \n",
       "8755                      0.0           0.0            0.0  Autumn   \n",
       "8756                      0.0           0.0            0.0  Autumn   \n",
       "8757                      0.0           0.0            0.0  Autumn   \n",
       "8758                      0.0           0.0            0.0  Autumn   \n",
       "8759                      0.0           0.0            0.0  Autumn   \n",
       "\n",
       "         Holiday Functioning Day  \n",
       "0     No Holiday             Yes  \n",
       "1     No Holiday             Yes  \n",
       "2     No Holiday             Yes  \n",
       "3     No Holiday             Yes  \n",
       "4     No Holiday             Yes  \n",
       "...          ...             ...  \n",
       "8755  No Holiday             Yes  \n",
       "8756  No Holiday             Yes  \n",
       "8757  No Holiday             Yes  \n",
       "8758  No Holiday             Yes  \n",
       "8759  No Holiday             Yes  \n",
       "\n",
       "[8760 rows x 14 columns]"
      ]
     },
     "execution_count": 4,
     "metadata": {},
     "output_type": "execute_result"
    }
   ],
   "source": [
    "bikedata"
   ]
  },
  {
   "cell_type": "markdown",
   "id": "e43ef9fb",
   "metadata": {
    "papermill": {
     "duration": 0.011081,
     "end_time": "2025-05-12T16:34:04.835251",
     "exception": false,
     "start_time": "2025-05-12T16:34:04.824170",
     "status": "completed"
    },
    "tags": []
   },
   "source": [
    "There are 14 features and 8760 observations in this dataset. "
   ]
  },
  {
   "cell_type": "markdown",
   "id": "31323371",
   "metadata": {
    "papermill": {
     "duration": 0.010152,
     "end_time": "2025-05-12T16:34:04.855908",
     "exception": false,
     "start_time": "2025-05-12T16:34:04.845756",
     "status": "completed"
    },
    "tags": []
   },
   "source": [
    "**Preprocessing & Train Test Split:**"
   ]
  },
  {
   "cell_type": "code",
   "execution_count": 5,
   "id": "2d63f47f",
   "metadata": {
    "execution": {
     "iopub.execute_input": "2025-05-12T16:34:04.878395Z",
     "iopub.status.busy": "2025-05-12T16:34:04.877944Z",
     "iopub.status.idle": "2025-05-12T16:34:04.885997Z",
     "shell.execute_reply": "2025-05-12T16:34:04.884985Z"
    },
    "papermill": {
     "duration": 0.021478,
     "end_time": "2025-05-12T16:34:04.887815",
     "exception": false,
     "start_time": "2025-05-12T16:34:04.866337",
     "status": "completed"
    },
    "tags": []
   },
   "outputs": [],
   "source": [
    "X = bikedata.drop('Rented Bike Count', axis=1) \n",
    "y = bikedata['Rented Bike Count']"
   ]
  },
  {
   "cell_type": "code",
   "execution_count": 6,
   "id": "58ff970d",
   "metadata": {
    "execution": {
     "iopub.execute_input": "2025-05-12T16:34:04.910841Z",
     "iopub.status.busy": "2025-05-12T16:34:04.910483Z",
     "iopub.status.idle": "2025-05-12T16:34:04.929520Z",
     "shell.execute_reply": "2025-05-12T16:34:04.928512Z"
    },
    "papermill": {
     "duration": 0.032262,
     "end_time": "2025-05-12T16:34:04.931159",
     "exception": false,
     "start_time": "2025-05-12T16:34:04.898897",
     "status": "completed"
    },
    "tags": []
   },
   "outputs": [
    {
     "data": {
      "text/html": [
       "<div>\n",
       "<style scoped>\n",
       "    .dataframe tbody tr th:only-of-type {\n",
       "        vertical-align: middle;\n",
       "    }\n",
       "\n",
       "    .dataframe tbody tr th {\n",
       "        vertical-align: top;\n",
       "    }\n",
       "\n",
       "    .dataframe thead th {\n",
       "        text-align: right;\n",
       "    }\n",
       "</style>\n",
       "<table border=\"1\" class=\"dataframe\">\n",
       "  <thead>\n",
       "    <tr style=\"text-align: right;\">\n",
       "      <th></th>\n",
       "      <th>Date</th>\n",
       "      <th>Hour</th>\n",
       "      <th>Temperature(C)</th>\n",
       "      <th>Humidity(%)</th>\n",
       "      <th>Wind speed (m/s)</th>\n",
       "      <th>Visibility (10m)</th>\n",
       "      <th>Dew point temperature(C)</th>\n",
       "      <th>Solar Radiation (MJ/m2)</th>\n",
       "      <th>Rainfall(mm)</th>\n",
       "      <th>Snowfall (cm)</th>\n",
       "      <th>Seasons</th>\n",
       "      <th>Holiday</th>\n",
       "      <th>Functioning Day</th>\n",
       "    </tr>\n",
       "  </thead>\n",
       "  <tbody>\n",
       "    <tr>\n",
       "      <th>0</th>\n",
       "      <td>01/12/2017</td>\n",
       "      <td>0</td>\n",
       "      <td>-5.2</td>\n",
       "      <td>37</td>\n",
       "      <td>2.2</td>\n",
       "      <td>2000</td>\n",
       "      <td>-17.6</td>\n",
       "      <td>0.0</td>\n",
       "      <td>0.0</td>\n",
       "      <td>0.0</td>\n",
       "      <td>Winter</td>\n",
       "      <td>No Holiday</td>\n",
       "      <td>Yes</td>\n",
       "    </tr>\n",
       "    <tr>\n",
       "      <th>1</th>\n",
       "      <td>01/12/2017</td>\n",
       "      <td>1</td>\n",
       "      <td>-5.5</td>\n",
       "      <td>38</td>\n",
       "      <td>0.8</td>\n",
       "      <td>2000</td>\n",
       "      <td>-17.6</td>\n",
       "      <td>0.0</td>\n",
       "      <td>0.0</td>\n",
       "      <td>0.0</td>\n",
       "      <td>Winter</td>\n",
       "      <td>No Holiday</td>\n",
       "      <td>Yes</td>\n",
       "    </tr>\n",
       "    <tr>\n",
       "      <th>2</th>\n",
       "      <td>01/12/2017</td>\n",
       "      <td>2</td>\n",
       "      <td>-6.0</td>\n",
       "      <td>39</td>\n",
       "      <td>1.0</td>\n",
       "      <td>2000</td>\n",
       "      <td>-17.7</td>\n",
       "      <td>0.0</td>\n",
       "      <td>0.0</td>\n",
       "      <td>0.0</td>\n",
       "      <td>Winter</td>\n",
       "      <td>No Holiday</td>\n",
       "      <td>Yes</td>\n",
       "    </tr>\n",
       "    <tr>\n",
       "      <th>3</th>\n",
       "      <td>01/12/2017</td>\n",
       "      <td>3</td>\n",
       "      <td>-6.2</td>\n",
       "      <td>40</td>\n",
       "      <td>0.9</td>\n",
       "      <td>2000</td>\n",
       "      <td>-17.6</td>\n",
       "      <td>0.0</td>\n",
       "      <td>0.0</td>\n",
       "      <td>0.0</td>\n",
       "      <td>Winter</td>\n",
       "      <td>No Holiday</td>\n",
       "      <td>Yes</td>\n",
       "    </tr>\n",
       "    <tr>\n",
       "      <th>4</th>\n",
       "      <td>01/12/2017</td>\n",
       "      <td>4</td>\n",
       "      <td>-6.0</td>\n",
       "      <td>36</td>\n",
       "      <td>2.3</td>\n",
       "      <td>2000</td>\n",
       "      <td>-18.6</td>\n",
       "      <td>0.0</td>\n",
       "      <td>0.0</td>\n",
       "      <td>0.0</td>\n",
       "      <td>Winter</td>\n",
       "      <td>No Holiday</td>\n",
       "      <td>Yes</td>\n",
       "    </tr>\n",
       "    <tr>\n",
       "      <th>...</th>\n",
       "      <td>...</td>\n",
       "      <td>...</td>\n",
       "      <td>...</td>\n",
       "      <td>...</td>\n",
       "      <td>...</td>\n",
       "      <td>...</td>\n",
       "      <td>...</td>\n",
       "      <td>...</td>\n",
       "      <td>...</td>\n",
       "      <td>...</td>\n",
       "      <td>...</td>\n",
       "      <td>...</td>\n",
       "      <td>...</td>\n",
       "    </tr>\n",
       "    <tr>\n",
       "      <th>8755</th>\n",
       "      <td>30/11/2018</td>\n",
       "      <td>19</td>\n",
       "      <td>4.2</td>\n",
       "      <td>34</td>\n",
       "      <td>2.6</td>\n",
       "      <td>1894</td>\n",
       "      <td>-10.3</td>\n",
       "      <td>0.0</td>\n",
       "      <td>0.0</td>\n",
       "      <td>0.0</td>\n",
       "      <td>Autumn</td>\n",
       "      <td>No Holiday</td>\n",
       "      <td>Yes</td>\n",
       "    </tr>\n",
       "    <tr>\n",
       "      <th>8756</th>\n",
       "      <td>30/11/2018</td>\n",
       "      <td>20</td>\n",
       "      <td>3.4</td>\n",
       "      <td>37</td>\n",
       "      <td>2.3</td>\n",
       "      <td>2000</td>\n",
       "      <td>-9.9</td>\n",
       "      <td>0.0</td>\n",
       "      <td>0.0</td>\n",
       "      <td>0.0</td>\n",
       "      <td>Autumn</td>\n",
       "      <td>No Holiday</td>\n",
       "      <td>Yes</td>\n",
       "    </tr>\n",
       "    <tr>\n",
       "      <th>8757</th>\n",
       "      <td>30/11/2018</td>\n",
       "      <td>21</td>\n",
       "      <td>2.6</td>\n",
       "      <td>39</td>\n",
       "      <td>0.3</td>\n",
       "      <td>1968</td>\n",
       "      <td>-9.9</td>\n",
       "      <td>0.0</td>\n",
       "      <td>0.0</td>\n",
       "      <td>0.0</td>\n",
       "      <td>Autumn</td>\n",
       "      <td>No Holiday</td>\n",
       "      <td>Yes</td>\n",
       "    </tr>\n",
       "    <tr>\n",
       "      <th>8758</th>\n",
       "      <td>30/11/2018</td>\n",
       "      <td>22</td>\n",
       "      <td>2.1</td>\n",
       "      <td>41</td>\n",
       "      <td>1.0</td>\n",
       "      <td>1859</td>\n",
       "      <td>-9.8</td>\n",
       "      <td>0.0</td>\n",
       "      <td>0.0</td>\n",
       "      <td>0.0</td>\n",
       "      <td>Autumn</td>\n",
       "      <td>No Holiday</td>\n",
       "      <td>Yes</td>\n",
       "    </tr>\n",
       "    <tr>\n",
       "      <th>8759</th>\n",
       "      <td>30/11/2018</td>\n",
       "      <td>23</td>\n",
       "      <td>1.9</td>\n",
       "      <td>43</td>\n",
       "      <td>1.3</td>\n",
       "      <td>1909</td>\n",
       "      <td>-9.3</td>\n",
       "      <td>0.0</td>\n",
       "      <td>0.0</td>\n",
       "      <td>0.0</td>\n",
       "      <td>Autumn</td>\n",
       "      <td>No Holiday</td>\n",
       "      <td>Yes</td>\n",
       "    </tr>\n",
       "  </tbody>\n",
       "</table>\n",
       "<p>8760 rows × 13 columns</p>\n",
       "</div>"
      ],
      "text/plain": [
       "            Date  Hour  Temperature(C)  Humidity(%)  Wind speed (m/s)  \\\n",
       "0     01/12/2017     0            -5.2           37               2.2   \n",
       "1     01/12/2017     1            -5.5           38               0.8   \n",
       "2     01/12/2017     2            -6.0           39               1.0   \n",
       "3     01/12/2017     3            -6.2           40               0.9   \n",
       "4     01/12/2017     4            -6.0           36               2.3   \n",
       "...          ...   ...             ...          ...               ...   \n",
       "8755  30/11/2018    19             4.2           34               2.6   \n",
       "8756  30/11/2018    20             3.4           37               2.3   \n",
       "8757  30/11/2018    21             2.6           39               0.3   \n",
       "8758  30/11/2018    22             2.1           41               1.0   \n",
       "8759  30/11/2018    23             1.9           43               1.3   \n",
       "\n",
       "      Visibility (10m)  Dew point temperature(C)  Solar Radiation (MJ/m2)  \\\n",
       "0                 2000                     -17.6                      0.0   \n",
       "1                 2000                     -17.6                      0.0   \n",
       "2                 2000                     -17.7                      0.0   \n",
       "3                 2000                     -17.6                      0.0   \n",
       "4                 2000                     -18.6                      0.0   \n",
       "...                ...                       ...                      ...   \n",
       "8755              1894                     -10.3                      0.0   \n",
       "8756              2000                      -9.9                      0.0   \n",
       "8757              1968                      -9.9                      0.0   \n",
       "8758              1859                      -9.8                      0.0   \n",
       "8759              1909                      -9.3                      0.0   \n",
       "\n",
       "      Rainfall(mm)  Snowfall (cm) Seasons     Holiday Functioning Day  \n",
       "0              0.0            0.0  Winter  No Holiday             Yes  \n",
       "1              0.0            0.0  Winter  No Holiday             Yes  \n",
       "2              0.0            0.0  Winter  No Holiday             Yes  \n",
       "3              0.0            0.0  Winter  No Holiday             Yes  \n",
       "4              0.0            0.0  Winter  No Holiday             Yes  \n",
       "...            ...            ...     ...         ...             ...  \n",
       "8755           0.0            0.0  Autumn  No Holiday             Yes  \n",
       "8756           0.0            0.0  Autumn  No Holiday             Yes  \n",
       "8757           0.0            0.0  Autumn  No Holiday             Yes  \n",
       "8758           0.0            0.0  Autumn  No Holiday             Yes  \n",
       "8759           0.0            0.0  Autumn  No Holiday             Yes  \n",
       "\n",
       "[8760 rows x 13 columns]"
      ]
     },
     "execution_count": 6,
     "metadata": {},
     "output_type": "execute_result"
    }
   ],
   "source": [
    "X"
   ]
  },
  {
   "cell_type": "markdown",
   "id": "112138c9",
   "metadata": {
    "papermill": {
     "duration": 0.01052,
     "end_time": "2025-05-12T16:34:04.952766",
     "exception": false,
     "start_time": "2025-05-12T16:34:04.942246",
     "status": "completed"
    },
    "tags": []
   },
   "source": [
    "Converting the date column into separate columns for year, month, day, day of the week, and weekend: "
   ]
  },
  {
   "cell_type": "code",
   "execution_count": 7,
   "id": "8301ecf9",
   "metadata": {
    "execution": {
     "iopub.execute_input": "2025-05-12T16:34:04.975724Z",
     "iopub.status.busy": "2025-05-12T16:34:04.975345Z",
     "iopub.status.idle": "2025-05-12T16:34:04.989982Z",
     "shell.execute_reply": "2025-05-12T16:34:04.989052Z"
    },
    "papermill": {
     "duration": 0.028126,
     "end_time": "2025-05-12T16:34:04.991700",
     "exception": false,
     "start_time": "2025-05-12T16:34:04.963574",
     "status": "completed"
    },
    "tags": []
   },
   "outputs": [],
   "source": [
    "X['Date'] = pd.to_datetime(X['Date'], format='%d/%m/%Y')"
   ]
  },
  {
   "cell_type": "code",
   "execution_count": 8,
   "id": "4c9e79e1",
   "metadata": {
    "execution": {
     "iopub.execute_input": "2025-05-12T16:34:05.015748Z",
     "iopub.status.busy": "2025-05-12T16:34:05.015358Z",
     "iopub.status.idle": "2025-05-12T16:34:05.026072Z",
     "shell.execute_reply": "2025-05-12T16:34:05.025044Z"
    },
    "papermill": {
     "duration": 0.024742,
     "end_time": "2025-05-12T16:34:05.028012",
     "exception": false,
     "start_time": "2025-05-12T16:34:05.003270",
     "status": "completed"
    },
    "tags": []
   },
   "outputs": [],
   "source": [
    "X['year'] = X['Date'].dt.year\n",
    "X['month'] = X['Date'].dt.month\n",
    "X['day'] = X['Date'].dt.day\n",
    "X['dayofweek'] = X['Date'].dt.dayofweek  # Monday = 0, Sunday = 6\n",
    "X['is_weekend'] = (X['dayofweek'] >= 5).astype(int)"
   ]
  },
  {
   "cell_type": "markdown",
   "id": "a0d8a466",
   "metadata": {
    "papermill": {
     "duration": 0.010471,
     "end_time": "2025-05-12T16:34:05.049764",
     "exception": false,
     "start_time": "2025-05-12T16:34:05.039293",
     "status": "completed"
    },
    "tags": []
   },
   "source": [
    "Dropping the original date column:"
   ]
  },
  {
   "cell_type": "code",
   "execution_count": 9,
   "id": "ff4b9eb7",
   "metadata": {
    "execution": {
     "iopub.execute_input": "2025-05-12T16:34:05.073119Z",
     "iopub.status.busy": "2025-05-12T16:34:05.072741Z",
     "iopub.status.idle": "2025-05-12T16:34:05.079794Z",
     "shell.execute_reply": "2025-05-12T16:34:05.078794Z"
    },
    "papermill": {
     "duration": 0.020664,
     "end_time": "2025-05-12T16:34:05.081388",
     "exception": false,
     "start_time": "2025-05-12T16:34:05.060724",
     "status": "completed"
    },
    "tags": []
   },
   "outputs": [],
   "source": [
    "X = X.drop(['Date'], axis = 1)"
   ]
  },
  {
   "cell_type": "markdown",
   "id": "0e61792f",
   "metadata": {
    "papermill": {
     "duration": 0.01055,
     "end_time": "2025-05-12T16:34:05.103045",
     "exception": false,
     "start_time": "2025-05-12T16:34:05.092495",
     "status": "completed"
    },
    "tags": []
   },
   "source": [
    "Train Test Split:"
   ]
  },
  {
   "cell_type": "code",
   "execution_count": 10,
   "id": "92689673",
   "metadata": {
    "execution": {
     "iopub.execute_input": "2025-05-12T16:34:05.125928Z",
     "iopub.status.busy": "2025-05-12T16:34:05.125562Z",
     "iopub.status.idle": "2025-05-12T16:34:05.133771Z",
     "shell.execute_reply": "2025-05-12T16:34:05.132852Z"
    },
    "papermill": {
     "duration": 0.021657,
     "end_time": "2025-05-12T16:34:05.135573",
     "exception": false,
     "start_time": "2025-05-12T16:34:05.113916",
     "status": "completed"
    },
    "tags": []
   },
   "outputs": [],
   "source": [
    "X_train, X_test, y_train, y_test = train_test_split(X, y, test_size=0.2, random_state=42)"
   ]
  },
  {
   "cell_type": "markdown",
   "id": "70de4fac",
   "metadata": {
    "papermill": {
     "duration": 0.010525,
     "end_time": "2025-05-12T16:34:05.157236",
     "exception": false,
     "start_time": "2025-05-12T16:34:05.146711",
     "status": "completed"
    },
    "tags": []
   },
   "source": [
    "**Distribution of target variable:**"
   ]
  },
  {
   "cell_type": "code",
   "execution_count": 11,
   "id": "98cc2f1c",
   "metadata": {
    "execution": {
     "iopub.execute_input": "2025-05-12T16:34:05.179885Z",
     "iopub.status.busy": "2025-05-12T16:34:05.179553Z",
     "iopub.status.idle": "2025-05-12T16:34:05.602705Z",
     "shell.execute_reply": "2025-05-12T16:34:05.601611Z"
    },
    "papermill": {
     "duration": 0.436607,
     "end_time": "2025-05-12T16:34:05.604617",
     "exception": false,
     "start_time": "2025-05-12T16:34:05.168010",
     "status": "completed"
    },
    "tags": []
   },
   "outputs": [
    {
     "data": {
      "image/png": "[encoded data removed]",
      "text/plain": [
       "<Figure size 640x480 with 1 Axes>"
      ]
     },
     "metadata": {},
     "output_type": "display_data"
    }
   ],
   "source": [
    "sns.histplot(y, kde=True) \n",
    "plt.title('Distribution of Target Variable')\n",
    "plt.show()"
   ]
  },
  {
   "cell_type": "markdown",
   "id": "fdec5187",
   "metadata": {
    "papermill": {
     "duration": 0.011158,
     "end_time": "2025-05-12T16:34:05.627786",
     "exception": false,
     "start_time": "2025-05-12T16:34:05.616628",
     "status": "completed"
    },
    "tags": []
   },
   "source": [
    "The distribution of the target variable is not normal or uniform, but is heavily right-skewed, with a peak from 0-100, and decay as values get larger. "
   ]
  },
  {
   "cell_type": "markdown",
   "id": "e99ec321",
   "metadata": {
    "papermill": {
     "duration": 0.01111,
     "end_time": "2025-05-12T16:34:05.650411",
     "exception": false,
     "start_time": "2025-05-12T16:34:05.639301",
     "status": "completed"
    },
    "tags": []
   },
   "source": [
    "**Checking data types:**"
   ]
  },
  {
   "cell_type": "code",
   "execution_count": 12,
   "id": "aa274158",
   "metadata": {
    "execution": {
     "iopub.execute_input": "2025-05-12T16:34:05.675300Z",
     "iopub.status.busy": "2025-05-12T16:34:05.674836Z",
     "iopub.status.idle": "2025-05-12T16:34:05.682394Z",
     "shell.execute_reply": "2025-05-12T16:34:05.681085Z"
    },
    "papermill": {
     "duration": 0.02213,
     "end_time": "2025-05-12T16:34:05.684119",
     "exception": false,
     "start_time": "2025-05-12T16:34:05.661989",
     "status": "completed"
    },
    "tags": []
   },
   "outputs": [
    {
     "data": {
      "text/plain": [
       "Hour                          int64\n",
       "Temperature(C)              float64\n",
       "Humidity(%)                   int64\n",
       "Wind speed (m/s)            float64\n",
       "Visibility (10m)              int64\n",
       "Dew point temperature(C)    float64\n",
       "Solar Radiation (MJ/m2)     float64\n",
       "Rainfall(mm)                float64\n",
       "Snowfall (cm)               float64\n",
       "Seasons                      object\n",
       "Holiday                      object\n",
       "Functioning Day              object\n",
       "year                          int32\n",
       "month                         int32\n",
       "day                           int32\n",
       "dayofweek                     int32\n",
       "is_weekend                    int64\n",
       "dtype: object"
      ]
     },
     "execution_count": 12,
     "metadata": {},
     "output_type": "execute_result"
    }
   ],
   "source": [
    "X.dtypes"
   ]
  },
  {
   "cell_type": "markdown",
   "id": "c34be7b3",
   "metadata": {
    "papermill": {
     "duration": 0.011658,
     "end_time": "2025-05-12T16:34:05.707795",
     "exception": false,
     "start_time": "2025-05-12T16:34:05.696137",
     "status": "completed"
    },
    "tags": []
   },
   "source": [
    "The Season, Holiday, and Functioning Day variables are categorical. The Hour, Temperature, Humidity, Wind Speed, Visibility, Dew Point Temperature, Solar Radiation, Rainfall, and Snowfall variables are numeric. The date values are numeric, but I am treating day of week and month as categorical. "
   ]
  },
  {
   "cell_type": "markdown",
   "id": "d6274e5e",
   "metadata": {
    "papermill": {
     "duration": 0.011295,
     "end_time": "2025-05-12T16:34:05.730921",
     "exception": false,
     "start_time": "2025-05-12T16:34:05.719626",
     "status": "completed"
    },
    "tags": []
   },
   "source": [
    "**Checking missing values:**"
   ]
  },
  {
   "cell_type": "code",
   "execution_count": 13,
   "id": "f9543abd",
   "metadata": {
    "execution": {
     "iopub.execute_input": "2025-05-12T16:34:05.755863Z",
     "iopub.status.busy": "2025-05-12T16:34:05.755507Z",
     "iopub.status.idle": "2025-05-12T16:34:05.765137Z",
     "shell.execute_reply": "2025-05-12T16:34:05.764232Z"
    },
    "papermill": {
     "duration": 0.024065,
     "end_time": "2025-05-12T16:34:05.766762",
     "exception": false,
     "start_time": "2025-05-12T16:34:05.742697",
     "status": "completed"
    },
    "tags": []
   },
   "outputs": [
    {
     "data": {
      "text/plain": [
       "Hour                        0\n",
       "Temperature(C)              0\n",
       "Humidity(%)                 0\n",
       "Wind speed (m/s)            0\n",
       "Visibility (10m)            0\n",
       "Dew point temperature(C)    0\n",
       "Solar Radiation (MJ/m2)     0\n",
       "Rainfall(mm)                0\n",
       "Snowfall (cm)               0\n",
       "Seasons                     0\n",
       "Holiday                     0\n",
       "Functioning Day             0\n",
       "year                        0\n",
       "month                       0\n",
       "day                         0\n",
       "dayofweek                   0\n",
       "is_weekend                  0\n",
       "dtype: int64"
      ]
     },
     "execution_count": 13,
     "metadata": {},
     "output_type": "execute_result"
    }
   ],
   "source": [
    "X.isnull().sum()"
   ]
  },
  {
   "cell_type": "code",
   "execution_count": 14,
   "id": "a692be80",
   "metadata": {
    "execution": {
     "iopub.execute_input": "2025-05-12T16:34:05.791832Z",
     "iopub.status.busy": "2025-05-12T16:34:05.791488Z",
     "iopub.status.idle": "2025-05-12T16:34:05.797683Z",
     "shell.execute_reply": "2025-05-12T16:34:05.796802Z"
    },
    "papermill": {
     "duration": 0.020528,
     "end_time": "2025-05-12T16:34:05.799257",
     "exception": false,
     "start_time": "2025-05-12T16:34:05.778729",
     "status": "completed"
    },
    "tags": []
   },
   "outputs": [
    {
     "data": {
      "text/plain": [
       "0"
      ]
     },
     "execution_count": 14,
     "metadata": {},
     "output_type": "execute_result"
    }
   ],
   "source": [
    "y.isnull().sum()"
   ]
  },
  {
   "cell_type": "markdown",
   "id": "db4752e8",
   "metadata": {
    "papermill": {
     "duration": 0.013329,
     "end_time": "2025-05-12T16:34:05.824771",
     "exception": false,
     "start_time": "2025-05-12T16:34:05.811442",
     "status": "completed"
    },
    "tags": []
   },
   "source": [
    "There are no missing values in this dataset. "
   ]
  },
  {
   "cell_type": "markdown",
   "id": "8dd91f67",
   "metadata": {
    "papermill": {
     "duration": 0.011501,
     "end_time": "2025-05-12T16:34:05.848291",
     "exception": false,
     "start_time": "2025-05-12T16:34:05.836790",
     "status": "completed"
    },
    "tags": []
   },
   "source": [
    "**Checking for outliers:**"
   ]
  },
  {
   "cell_type": "code",
   "execution_count": 15,
   "id": "18bd53cc",
   "metadata": {
    "execution": {
     "iopub.execute_input": "2025-05-12T16:34:05.873218Z",
     "iopub.status.busy": "2025-05-12T16:34:05.872743Z",
     "iopub.status.idle": "2025-05-12T16:34:05.911103Z",
     "shell.execute_reply": "2025-05-12T16:34:05.910066Z"
    },
    "papermill": {
     "duration": 0.052749,
     "end_time": "2025-05-12T16:34:05.912827",
     "exception": false,
     "start_time": "2025-05-12T16:34:05.860078",
     "status": "completed"
    },
    "tags": []
   },
   "outputs": [
    {
     "name": "stdout",
     "output_type": "stream",
     "text": [
      "                          num_outliers  percent_outliers\n",
      "year                             744.0          8.493151\n",
      "Solar Radiation (MJ/m2)          641.0          7.317352\n",
      "Rainfall(mm)                     528.0          6.027397\n",
      "Snowfall (cm)                    443.0          5.057078\n",
      "Wind speed (m/s)                 161.0          1.837900\n",
      "Hour                               0.0          0.000000\n",
      "Temperature(C)                     0.0          0.000000\n",
      "Humidity(%)                        0.0          0.000000\n",
      "Visibility (10m)                   0.0          0.000000\n",
      "Dew point temperature(C)           0.0          0.000000\n",
      "day                                0.0          0.000000\n",
      "is_weekend                         0.0          0.000000\n"
     ]
    }
   ],
   "source": [
    "numeric_cols = X.drop(['Seasons', 'Holiday', 'Functioning Day', 'dayofweek', 'month'], axis =1)\n",
    "\n",
    "outlier_summary = {}\n",
    "\n",
    "for col in numeric_cols.columns:\n",
    "    Q1 = np.percentile(X[col].dropna(), 25)\n",
    "    Q3 = np.percentile(X[col].dropna(), 75)\n",
    "    IQR = Q3 - Q1\n",
    "    lower_bound = Q1 - 1.5 * IQR\n",
    "    upper_bound = Q3 + 1.5 * IQR\n",
    "    \n",
    "    # Find outliers\n",
    "    outliers = X[(X[col] < lower_bound) | (X[col] > upper_bound)][col]\n",
    "    \n",
    "    outlier_summary[col] = {\n",
    "        'num_outliers': outliers.count(),\n",
    "        'percent_outliers': 100 * outliers.count() / X[col].dropna().count()\n",
    "    }\n",
    "\n",
    "outlier_df = pd.DataFrame(outlier_summary).T\n",
    "outlier_df = outlier_df.sort_values(by='percent_outliers', ascending=False)\n",
    "\n",
    "print(outlier_df)"
   ]
  },
  {
   "cell_type": "markdown",
   "id": "1f62ff34",
   "metadata": {
    "papermill": {
     "duration": 0.011829,
     "end_time": "2025-05-12T16:34:05.936982",
     "exception": false,
     "start_time": "2025-05-12T16:34:05.925153",
     "status": "completed"
    },
    "tags": []
   },
   "source": [
    "While there are some outliers in this dataset, I'm choosing to keep them due to the fact that they are natural events. Storms happen, and play a role in outcomes, so I don't think it would significantly impact my results negatively. "
   ]
  },
  {
   "cell_type": "markdown",
   "id": "d57b83d9",
   "metadata": {
    "papermill": {
     "duration": 0.011663,
     "end_time": "2025-05-12T16:34:05.960611",
     "exception": false,
     "start_time": "2025-05-12T16:34:05.948948",
     "status": "completed"
    },
    "tags": []
   },
   "source": [
    "# Evalution Metric"
   ]
  },
  {
   "cell_type": "markdown",
   "id": "817f5183",
   "metadata": {
    "papermill": {
     "duration": 0.011591,
     "end_time": "2025-05-12T16:34:05.984186",
     "exception": false,
     "start_time": "2025-05-12T16:34:05.972595",
     "status": "completed"
    },
    "tags": []
   },
   "source": [
    "I'm choosing to use RMSE as my evaluation metric, because it is a reliable and standard metric for regression. It also punishes underpredictions more than overpredictions, which is ideal when looking at bike counts. It would be better to have extra bikes than too few bikes. "
   ]
  },
  {
   "cell_type": "markdown",
   "id": "1b8b7a1b",
   "metadata": {
    "papermill": {
     "duration": 0.066439,
     "end_time": "2025-05-12T16:34:06.062884",
     "exception": false,
     "start_time": "2025-05-12T16:34:05.996445",
     "status": "completed"
    },
    "tags": []
   },
   "source": [
    "# Model Fitting"
   ]
  },
  {
   "cell_type": "markdown",
   "id": "7bf91208",
   "metadata": {
    "papermill": {
     "duration": 0.012316,
     "end_time": "2025-05-12T16:34:06.087474",
     "exception": false,
     "start_time": "2025-05-12T16:34:06.075158",
     "status": "completed"
    },
    "tags": []
   },
   "source": [
    "# Elastic Net Regression"
   ]
  },
  {
   "cell_type": "code",
   "execution_count": 16,
   "id": "f8f76163",
   "metadata": {
    "execution": {
     "iopub.execute_input": "2025-05-12T16:34:06.113121Z",
     "iopub.status.busy": "2025-05-12T16:34:06.112671Z",
     "iopub.status.idle": "2025-05-12T16:34:06.131782Z",
     "shell.execute_reply": "2025-05-12T16:34:06.130547Z"
    },
    "papermill": {
     "duration": 0.034206,
     "end_time": "2025-05-12T16:34:06.133879",
     "exception": false,
     "start_time": "2025-05-12T16:34:06.099673",
     "status": "completed"
    },
    "tags": []
   },
   "outputs": [],
   "source": [
    "categorical_cols = ['Seasons', 'Holiday', 'Functioning Day', 'dayofweek', 'month']\n",
    "X_train_dummies = pd.get_dummies(X_train, columns=categorical_cols, drop_first=True)\n",
    "X_test_dummies = pd.get_dummies(X_test, columns=categorical_cols, drop_first=True)"
   ]
  },
  {
   "cell_type": "code",
   "execution_count": 17,
   "id": "cfcbefdb",
   "metadata": {
    "execution": {
     "iopub.execute_input": "2025-05-12T16:34:06.159382Z",
     "iopub.status.busy": "2025-05-12T16:34:06.158958Z",
     "iopub.status.idle": "2025-05-12T16:34:06.165459Z",
     "shell.execute_reply": "2025-05-12T16:34:06.164485Z"
    },
    "papermill": {
     "duration": 0.020979,
     "end_time": "2025-05-12T16:34:06.167082",
     "exception": false,
     "start_time": "2025-05-12T16:34:06.146103",
     "status": "completed"
    },
    "tags": []
   },
   "outputs": [],
   "source": [
    "all_columns = X_train_dummies.columns.union(X_test_dummies.columns)\n",
    "\n",
    "# Reindex both dataframes to include all columns\n",
    "X_train_dummies = X_train_dummies.reindex(columns=all_columns, fill_value=0)\n",
    "X_test_dummies = X_test_dummies.reindex(columns=all_columns, fill_value=0)"
   ]
  },
  {
   "cell_type": "code",
   "execution_count": 18,
   "id": "9fc73214",
   "metadata": {
    "execution": {
     "iopub.execute_input": "2025-05-12T16:34:06.192552Z",
     "iopub.status.busy": "2025-05-12T16:34:06.192104Z",
     "iopub.status.idle": "2025-05-12T16:34:06.196430Z",
     "shell.execute_reply": "2025-05-12T16:34:06.195450Z"
    },
    "papermill": {
     "duration": 0.018583,
     "end_time": "2025-05-12T16:34:06.197960",
     "exception": false,
     "start_time": "2025-05-12T16:34:06.179377",
     "status": "completed"
    },
    "tags": []
   },
   "outputs": [],
   "source": [
    "assert set(X_train.columns) == set(X_test.columns)"
   ]
  },
  {
   "cell_type": "code",
   "execution_count": 19,
   "id": "5e57636a",
   "metadata": {
    "execution": {
     "iopub.execute_input": "2025-05-12T16:34:06.224355Z",
     "iopub.status.busy": "2025-05-12T16:34:06.223938Z",
     "iopub.status.idle": "2025-05-12T16:34:06.228436Z",
     "shell.execute_reply": "2025-05-12T16:34:06.227331Z"
    },
    "papermill": {
     "duration": 0.019962,
     "end_time": "2025-05-12T16:34:06.230299",
     "exception": false,
     "start_time": "2025-05-12T16:34:06.210337",
     "status": "completed"
    },
    "tags": []
   },
   "outputs": [],
   "source": [
    "# Set up cross-validation\n",
    "kf = KFold(n_splits=10, shuffle=True, random_state=42)"
   ]
  },
  {
   "cell_type": "code",
   "execution_count": 20,
   "id": "340c0721",
   "metadata": {
    "execution": {
     "iopub.execute_input": "2025-05-12T16:34:06.256587Z",
     "iopub.status.busy": "2025-05-12T16:34:06.256191Z",
     "iopub.status.idle": "2025-05-12T16:36:55.249937Z",
     "shell.execute_reply": "2025-05-12T16:36:55.248776Z"
    },
    "papermill": {
     "duration": 169.009172,
     "end_time": "2025-05-12T16:36:55.251968",
     "exception": false,
     "start_time": "2025-05-12T16:34:06.242796",
     "status": "completed"
    },
    "tags": []
   },
   "outputs": [],
   "source": [
    "# ElasticNet Regression with GridSearchCV\n",
    "alphas = np.logspace(-4, 4, 9)\n",
    "l1_ratios = np.linspace(0, 1, 10)\n",
    "pipeline = Pipeline([\n",
    "    ('scaler', StandardScaler()),\n",
    "    ('elasticnet', ElasticNet())\n",
    "])\n",
    "\n",
    "param_grid = {\n",
    "    'elasticnet__alpha': alphas,\n",
    "    'elasticnet__l1_ratio': l1_ratios\n",
    "}\n",
    "elasticnet_cv = GridSearchCV(\n",
    "    pipeline, \n",
    "    param_grid,\n",
    "    cv=kf,\n",
    "    scoring='neg_root_mean_squared_error',\n",
    "    return_train_score=True  # Also track training scores\n",
    ")\n",
    "elasticnet_cv.fit(X_train_dummies, y_train)\n",
    "best_alpha = elasticnet_cv.best_params_['elasticnet__alpha']\n",
    "best_l1_ratio = elasticnet_cv.best_params_['elasticnet__l1_ratio']\n",
    "best_score = -elasticnet_cv.best_score_  \n",
    "best_model = elasticnet_cv.best_estimator_"
   ]
  },
  {
   "cell_type": "code",
   "execution_count": 21,
   "id": "f5e776d5",
   "metadata": {
    "execution": {
     "iopub.execute_input": "2025-05-12T16:36:55.277739Z",
     "iopub.status.busy": "2025-05-12T16:36:55.277365Z",
     "iopub.status.idle": "2025-05-12T16:36:55.282303Z",
     "shell.execute_reply": "2025-05-12T16:36:55.281108Z"
    },
    "papermill": {
     "duration": 0.019175,
     "end_time": "2025-05-12T16:36:55.283774",
     "exception": false,
     "start_time": "2025-05-12T16:36:55.264599",
     "status": "completed"
    },
    "tags": []
   },
   "outputs": [
    {
     "name": "stdout",
     "output_type": "stream",
     "text": [
      "Best alpha: 0.01, Best l1 ratio: 0.2222222222222222, RMSE: 410.6993779160868\n"
     ]
    }
   ],
   "source": [
    "print(f\"Best alpha: {best_alpha}, Best l1 ratio: {best_l1_ratio}, RMSE: {best_score}\")"
   ]
  },
  {
   "cell_type": "code",
   "execution_count": 22,
   "id": "4f80cf53",
   "metadata": {
    "execution": {
     "iopub.execute_input": "2025-05-12T16:36:55.309510Z",
     "iopub.status.busy": "2025-05-12T16:36:55.309104Z",
     "iopub.status.idle": "2025-05-12T16:36:55.318600Z",
     "shell.execute_reply": "2025-05-12T16:36:55.317401Z"
    },
    "papermill": {
     "duration": 0.024447,
     "end_time": "2025-05-12T16:36:55.320398",
     "exception": false,
     "start_time": "2025-05-12T16:36:55.295951",
     "status": "completed"
    },
    "tags": []
   },
   "outputs": [],
   "source": [
    "elastic_predictions = best_model.predict(X_test_dummies)\n",
    "elastic = pd.DataFrame({\n",
    "    'Rented Bike Count': elastic_predictions\n",
    "})"
   ]
  },
  {
   "cell_type": "code",
   "execution_count": 23,
   "id": "bee5cd18",
   "metadata": {
    "execution": {
     "iopub.execute_input": "2025-05-12T16:36:55.346022Z",
     "iopub.status.busy": "2025-05-12T16:36:55.345690Z",
     "iopub.status.idle": "2025-05-12T16:36:55.354882Z",
     "shell.execute_reply": "2025-05-12T16:36:55.353854Z"
    },
    "papermill": {
     "duration": 0.0239,
     "end_time": "2025-05-12T16:36:55.356533",
     "exception": false,
     "start_time": "2025-05-12T16:36:55.332633",
     "status": "completed"
    },
    "tags": []
   },
   "outputs": [
    {
     "data": {
      "text/html": [
       "<div>\n",
       "<style scoped>\n",
       "    .dataframe tbody tr th:only-of-type {\n",
       "        vertical-align: middle;\n",
       "    }\n",
       "\n",
       "    .dataframe tbody tr th {\n",
       "        vertical-align: top;\n",
       "    }\n",
       "\n",
       "    .dataframe thead th {\n",
       "        text-align: right;\n",
       "    }\n",
       "</style>\n",
       "<table border=\"1\" class=\"dataframe\">\n",
       "  <thead>\n",
       "    <tr style=\"text-align: right;\">\n",
       "      <th></th>\n",
       "      <th>Rented Bike Count</th>\n",
       "    </tr>\n",
       "  </thead>\n",
       "  <tbody>\n",
       "    <tr>\n",
       "      <th>0</th>\n",
       "      <td>772.230691</td>\n",
       "    </tr>\n",
       "    <tr>\n",
       "      <th>1</th>\n",
       "      <td>1089.382756</td>\n",
       "    </tr>\n",
       "    <tr>\n",
       "      <th>2</th>\n",
       "      <td>1129.833001</td>\n",
       "    </tr>\n",
       "    <tr>\n",
       "      <th>3</th>\n",
       "      <td>1414.806272</td>\n",
       "    </tr>\n",
       "    <tr>\n",
       "      <th>4</th>\n",
       "      <td>559.440039</td>\n",
       "    </tr>\n",
       "    <tr>\n",
       "      <th>...</th>\n",
       "      <td>...</td>\n",
       "    </tr>\n",
       "    <tr>\n",
       "      <th>1747</th>\n",
       "      <td>407.004086</td>\n",
       "    </tr>\n",
       "    <tr>\n",
       "      <th>1748</th>\n",
       "      <td>156.386131</td>\n",
       "    </tr>\n",
       "    <tr>\n",
       "      <th>1749</th>\n",
       "      <td>845.725215</td>\n",
       "    </tr>\n",
       "    <tr>\n",
       "      <th>1750</th>\n",
       "      <td>-155.707018</td>\n",
       "    </tr>\n",
       "    <tr>\n",
       "      <th>1751</th>\n",
       "      <td>1121.356359</td>\n",
       "    </tr>\n",
       "  </tbody>\n",
       "</table>\n",
       "<p>1752 rows × 1 columns</p>\n",
       "</div>"
      ],
      "text/plain": [
       "      Rented Bike Count\n",
       "0            772.230691\n",
       "1           1089.382756\n",
       "2           1129.833001\n",
       "3           1414.806272\n",
       "4            559.440039\n",
       "...                 ...\n",
       "1747         407.004086\n",
       "1748         156.386131\n",
       "1749         845.725215\n",
       "1750        -155.707018\n",
       "1751        1121.356359\n",
       "\n",
       "[1752 rows x 1 columns]"
      ]
     },
     "execution_count": 23,
     "metadata": {},
     "output_type": "execute_result"
    }
   ],
   "source": [
    "elastic"
   ]
  },
  {
   "cell_type": "markdown",
   "id": "75015397",
   "metadata": {
    "papermill": {
     "duration": 0.011758,
     "end_time": "2025-05-12T16:36:55.380585",
     "exception": false,
     "start_time": "2025-05-12T16:36:55.368827",
     "status": "completed"
    },
    "tags": []
   },
   "source": [
    "# PCA Regression"
   ]
  },
  {
   "cell_type": "code",
   "execution_count": 24,
   "id": "1a5460ed",
   "metadata": {
    "execution": {
     "iopub.execute_input": "2025-05-12T16:36:55.406515Z",
     "iopub.status.busy": "2025-05-12T16:36:55.406091Z",
     "iopub.status.idle": "2025-05-12T16:36:55.429715Z",
     "shell.execute_reply": "2025-05-12T16:36:55.428780Z"
    },
    "papermill": {
     "duration": 0.039023,
     "end_time": "2025-05-12T16:36:55.431600",
     "exception": false,
     "start_time": "2025-05-12T16:36:55.392577",
     "status": "completed"
    },
    "tags": []
   },
   "outputs": [],
   "source": [
    "scaler = StandardScaler()\n",
    "X_train_scaled = scaler.fit_transform(X_train_dummies)"
   ]
  },
  {
   "cell_type": "code",
   "execution_count": 25,
   "id": "9b02ffd7",
   "metadata": {
    "execution": {
     "iopub.execute_input": "2025-05-12T16:36:55.457370Z",
     "iopub.status.busy": "2025-05-12T16:36:55.456971Z",
     "iopub.status.idle": "2025-05-12T16:36:55.461117Z",
     "shell.execute_reply": "2025-05-12T16:36:55.460116Z"
    },
    "papermill": {
     "duration": 0.018583,
     "end_time": "2025-05-12T16:36:55.462648",
     "exception": false,
     "start_time": "2025-05-12T16:36:55.444065",
     "status": "completed"
    },
    "tags": []
   },
   "outputs": [],
   "source": [
    "pca = PCA()"
   ]
  },
  {
   "cell_type": "code",
   "execution_count": 26,
   "id": "0326d116",
   "metadata": {
    "execution": {
     "iopub.execute_input": "2025-05-12T16:36:55.488500Z",
     "iopub.status.busy": "2025-05-12T16:36:55.488077Z",
     "iopub.status.idle": "2025-05-12T16:36:55.539252Z",
     "shell.execute_reply": "2025-05-12T16:36:55.538247Z"
    },
    "papermill": {
     "duration": 0.065741,
     "end_time": "2025-05-12T16:36:55.540864",
     "exception": false,
     "start_time": "2025-05-12T16:36:55.475123",
     "status": "completed"
    },
    "tags": []
   },
   "outputs": [
    {
     "data": {
      "text/html": [
       "<style>#sk-container-id-1 {color: black;background-color: white;}#sk-container-id-1 pre{padding: 0;}#sk-container-id-1 div.sk-toggleable {background-color: white;}#sk-container-id-1 label.sk-toggleable__label {cursor: pointer;display: block;width: 100%;margin-bottom: 0;padding: 0.3em;box-sizing: border-box;text-align: center;}#sk-container-id-1 label.sk-toggleable__label-arrow:before {content: \"▸\";float: left;margin-right: 0.25em;color: #696969;}#sk-container-id-1 label.sk-toggleable__label-arrow:hover:before {color: black;}#sk-container-id-1 div.sk-estimator:hover label.sk-toggleable__label-arrow:before {color: black;}#sk-container-id-1 div.sk-toggleable__content {max-height: 0;max-width: 0;overflow: hidden;text-align: left;background-color: #f0f8ff;}#sk-container-id-1 div.sk-toggleable__content pre {margin: 0.2em;color: black;border-radius: 0.25em;background-color: #f0f8ff;}#sk-container-id-1 input.sk-toggleable__control:checked~div.sk-toggleable__content {max-height: 200px;max-width: 100%;overflow: auto;}#sk-container-id-1 input.sk-toggleable__control:checked~label.sk-toggleable__label-arrow:before {content: \"▾\";}#sk-container-id-1 div.sk-estimator input.sk-toggleable__control:checked~label.sk-toggleable__label {background-color: #d4ebff;}#sk-container-id-1 div.sk-label input.sk-toggleable__control:checked~label.sk-toggleable__label {background-color: #d4ebff;}#sk-container-id-1 input.sk-hidden--visually {border: 0;clip: rect(1px 1px 1px 1px);clip: rect(1px, 1px, 1px, 1px);height: 1px;margin: -1px;overflow: hidden;padding: 0;position: absolute;width: 1px;}#sk-container-id-1 div.sk-estimator {font-family: monospace;background-color: #f0f8ff;border: 1px dotted black;border-radius: 0.25em;box-sizing: border-box;margin-bottom: 0.5em;}#sk-container-id-1 div.sk-estimator:hover {background-color: #d4ebff;}#sk-container-id-1 div.sk-parallel-item::after {content: \"\";width: 100%;border-bottom: 1px solid gray;flex-grow: 1;}#sk-container-id-1 div.sk-label:hover label.sk-toggleable__label {background-color: #d4ebff;}#sk-container-id-1 div.sk-serial::before {content: \"\";position: absolute;border-left: 1px solid gray;box-sizing: border-box;top: 0;bottom: 0;left: 50%;z-index: 0;}#sk-container-id-1 div.sk-serial {display: flex;flex-direction: column;align-items: center;background-color: white;padding-right: 0.2em;padding-left: 0.2em;position: relative;}#sk-container-id-1 div.sk-item {position: relative;z-index: 1;}#sk-container-id-1 div.sk-parallel {display: flex;align-items: stretch;justify-content: center;background-color: white;position: relative;}#sk-container-id-1 div.sk-item::before, #sk-container-id-1 div.sk-parallel-item::before {content: \"\";position: absolute;border-left: 1px solid gray;box-sizing: border-box;top: 0;bottom: 0;left: 50%;z-index: -1;}#sk-container-id-1 div.sk-parallel-item {display: flex;flex-direction: column;z-index: 1;position: relative;background-color: white;}#sk-container-id-1 div.sk-parallel-item:first-child::after {align-self: flex-end;width: 50%;}#sk-container-id-1 div.sk-parallel-item:last-child::after {align-self: flex-start;width: 50%;}#sk-container-id-1 div.sk-parallel-item:only-child::after {width: 0;}#sk-container-id-1 div.sk-dashed-wrapped {border: 1px dashed gray;margin: 0 0.4em 0.5em 0.4em;box-sizing: border-box;padding-bottom: 0.4em;background-color: white;}#sk-container-id-1 div.sk-label label {font-family: monospace;font-weight: bold;display: inline-block;line-height: 1.2em;}#sk-container-id-1 div.sk-label-container {text-align: center;}#sk-container-id-1 div.sk-container {/* jupyter's `normalize.less` sets `[hidden] { display: none; }` but bootstrap.min.css set `[hidden] { display: none !important; }` so we also need the `!important` here to be able to override the default hidden behavior on the sphinx rendered scikit-learn.org. See: https://github.com/scikit-learn/scikit-learn/issues/21755 */display: inline-block !important;position: relative;}#sk-container-id-1 div.sk-text-repr-fallback {display: none;}</style><div id=\"sk-container-id-1\" class=\"sk-top-container\"><div class=\"sk-text-repr-fallback\"><pre>PCA()</pre><b>In a Jupyter environment, please rerun this cell to show the HTML representation or trust the notebook. <br />On GitHub, the HTML representation is unable to render, please try loading this page with nbviewer.org.</b></div><div class=\"sk-container\" hidden><div class=\"sk-item\"><div class=\"sk-estimator sk-toggleable\"><input class=\"sk-toggleable__control sk-hidden--visually\" id=\"sk-estimator-id-1\" type=\"checkbox\" checked><label for=\"sk-estimator-id-1\" class=\"sk-toggleable__label sk-toggleable__label-arrow\">PCA</label><div class=\"sk-toggleable__content\"><pre>PCA()</pre></div></div></div></div></div>"
      ],
      "text/plain": [
       "PCA()"
      ]
     },
     "execution_count": 26,
     "metadata": {},
     "output_type": "execute_result"
    }
   ],
   "source": [
    "pca.fit(X_train_scaled)"
   ]
  },
  {
   "cell_type": "code",
   "execution_count": 27,
   "id": "8cce1c01",
   "metadata": {
    "execution": {
     "iopub.execute_input": "2025-05-12T16:36:55.567444Z",
     "iopub.status.busy": "2025-05-12T16:36:55.567041Z",
     "iopub.status.idle": "2025-05-12T16:36:55.573057Z",
     "shell.execute_reply": "2025-05-12T16:36:55.572096Z"
    },
    "papermill": {
     "duration": 0.020961,
     "end_time": "2025-05-12T16:36:55.574724",
     "exception": false,
     "start_time": "2025-05-12T16:36:55.553763",
     "status": "completed"
    },
    "tags": []
   },
   "outputs": [],
   "source": [
    "X_pca = pca.transform(X_train_scaled)"
   ]
  },
  {
   "cell_type": "code",
   "execution_count": 28,
   "id": "7264e8b8",
   "metadata": {
    "execution": {
     "iopub.execute_input": "2025-05-12T16:36:55.601326Z",
     "iopub.status.busy": "2025-05-12T16:36:55.600882Z",
     "iopub.status.idle": "2025-05-12T16:36:55.607156Z",
     "shell.execute_reply": "2025-05-12T16:36:55.606170Z"
    },
    "papermill": {
     "duration": 0.02113,
     "end_time": "2025-05-12T16:36:55.608768",
     "exception": false,
     "start_time": "2025-05-12T16:36:55.587638",
     "status": "completed"
    },
    "tags": []
   },
   "outputs": [
    {
     "data": {
      "text/plain": [
       "array([[ 3.04866781e-03, -5.73437098e-01, -3.60783379e-01, ...,\n",
       "         8.53070317e-16,  1.79869789e-15, -1.18779084e-16],\n",
       "       [-2.55258972e+00,  1.51999453e+00,  9.15336612e-01, ...,\n",
       "        -3.40419434e-16,  7.78680485e-16,  6.49703416e-16],\n",
       "       [ 3.18348612e-01, -3.53714227e-01,  3.10227975e-01, ...,\n",
       "         1.68573759e-15,  2.23410498e-17, -3.40823689e-16],\n",
       "       ...,\n",
       "       [-2.79908047e+00,  1.27675903e+00, -1.69738141e+00, ...,\n",
       "        -1.50615361e-15,  1.27828085e-15,  3.90807521e-17],\n",
       "       [ 2.06166736e+00,  2.00136251e-01, -4.25962496e-01, ...,\n",
       "        -2.33882088e-15,  6.12147032e-16, -5.99297487e-16],\n",
       "       [-6.93727182e-01,  2.56027010e-01, -3.77503843e-01, ...,\n",
       "        -3.51081026e-17, -8.31142900e-16,  7.60725718e-16]])"
      ]
     },
     "execution_count": 28,
     "metadata": {},
     "output_type": "execute_result"
    }
   ],
   "source": [
    "X_pca"
   ]
  },
  {
   "cell_type": "code",
   "execution_count": 29,
   "id": "ea91a08b",
   "metadata": {
    "execution": {
     "iopub.execute_input": "2025-05-12T16:36:55.635677Z",
     "iopub.status.busy": "2025-05-12T16:36:55.635302Z",
     "iopub.status.idle": "2025-05-12T16:36:55.639441Z",
     "shell.execute_reply": "2025-05-12T16:36:55.638487Z"
    },
    "papermill": {
     "duration": 0.019023,
     "end_time": "2025-05-12T16:36:55.640874",
     "exception": false,
     "start_time": "2025-05-12T16:36:55.621851",
     "status": "completed"
    },
    "tags": []
   },
   "outputs": [],
   "source": [
    "pipeline = Pipeline([\n",
    "    ('pca', PCA()),\n",
    "    ('regressor', LinearRegression())\n",
    "])"
   ]
  },
  {
   "cell_type": "code",
   "execution_count": 30,
   "id": "5c0e1996",
   "metadata": {
    "execution": {
     "iopub.execute_input": "2025-05-12T16:36:55.667004Z",
     "iopub.status.busy": "2025-05-12T16:36:55.666675Z",
     "iopub.status.idle": "2025-05-12T16:36:55.671268Z",
     "shell.execute_reply": "2025-05-12T16:36:55.670054Z"
    },
    "papermill": {
     "duration": 0.019578,
     "end_time": "2025-05-12T16:36:55.672893",
     "exception": false,
     "start_time": "2025-05-12T16:36:55.653315",
     "status": "completed"
    },
    "tags": []
   },
   "outputs": [],
   "source": [
    "param_grid = {\n",
    "    'pca__n_components': [i+1 for i in range(X_train.shape[1])]\n",
    "}"
   ]
  },
  {
   "cell_type": "code",
   "execution_count": 31,
   "id": "1a43691f",
   "metadata": {
    "execution": {
     "iopub.execute_input": "2025-05-12T16:36:55.699330Z",
     "iopub.status.busy": "2025-05-12T16:36:55.698954Z",
     "iopub.status.idle": "2025-05-12T16:36:58.778824Z",
     "shell.execute_reply": "2025-05-12T16:36:58.777370Z"
    },
    "papermill": {
     "duration": 3.095137,
     "end_time": "2025-05-12T16:36:58.780715",
     "exception": false,
     "start_time": "2025-05-12T16:36:55.685578",
     "status": "completed"
    },
    "tags": []
   },
   "outputs": [
    {
     "name": "stdout",
     "output_type": "stream",
     "text": [
      "Best parameters: {'pca__n_components': 17}\n",
      "Best cross-validation RMSE score: 465.56006268737093\n"
     ]
    }
   ],
   "source": [
    "grid_search = GridSearchCV(\n",
    "    pipeline,\n",
    "    param_grid=param_grid,\n",
    "    cv=5,\n",
    "    scoring= 'neg_root_mean_squared_error',\n",
    "    n_jobs=-1  # Use all available processors\n",
    ")\n",
    "\n",
    "# Fit the grid search\n",
    "grid_search.fit(X_train_dummies, y_train)\n",
    "\n",
    "# Get best parameters and score\n",
    "print(f\"Best parameters: {grid_search.best_params_}\")\n",
    "print(f\"Best cross-validation RMSE score: {- grid_search.best_score_}\")\n"
   ]
  },
  {
   "cell_type": "code",
   "execution_count": 32,
   "id": "00039f34",
   "metadata": {
    "execution": {
     "iopub.execute_input": "2025-05-12T16:36:58.808608Z",
     "iopub.status.busy": "2025-05-12T16:36:58.808231Z",
     "iopub.status.idle": "2025-05-12T16:36:58.817807Z",
     "shell.execute_reply": "2025-05-12T16:36:58.816912Z"
    },
    "papermill": {
     "duration": 0.02549,
     "end_time": "2025-05-12T16:36:58.819483",
     "exception": false,
     "start_time": "2025-05-12T16:36:58.793993",
     "status": "completed"
    },
    "tags": []
   },
   "outputs": [],
   "source": [
    "best_pca_model = grid_search.best_estimator_\n",
    "pca_predictions = best_model.predict(X_test_dummies)\n",
    "pca = pd.DataFrame({\n",
    "    'Rented Bike Count': pca_predictions\n",
    "})"
   ]
  },
  {
   "cell_type": "code",
   "execution_count": 33,
   "id": "d4094d01",
   "metadata": {
    "execution": {
     "iopub.execute_input": "2025-05-12T16:36:58.846268Z",
     "iopub.status.busy": "2025-05-12T16:36:58.845886Z",
     "iopub.status.idle": "2025-05-12T16:36:58.855953Z",
     "shell.execute_reply": "2025-05-12T16:36:58.854892Z"
    },
    "papermill": {
     "duration": 0.025162,
     "end_time": "2025-05-12T16:36:58.857605",
     "exception": false,
     "start_time": "2025-05-12T16:36:58.832443",
     "status": "completed"
    },
    "tags": []
   },
   "outputs": [
    {
     "data": {
      "text/html": [
       "<div>\n",
       "<style scoped>\n",
       "    .dataframe tbody tr th:only-of-type {\n",
       "        vertical-align: middle;\n",
       "    }\n",
       "\n",
       "    .dataframe tbody tr th {\n",
       "        vertical-align: top;\n",
       "    }\n",
       "\n",
       "    .dataframe thead th {\n",
       "        text-align: right;\n",
       "    }\n",
       "</style>\n",
       "<table border=\"1\" class=\"dataframe\">\n",
       "  <thead>\n",
       "    <tr style=\"text-align: right;\">\n",
       "      <th></th>\n",
       "      <th>Rented Bike Count</th>\n",
       "    </tr>\n",
       "  </thead>\n",
       "  <tbody>\n",
       "    <tr>\n",
       "      <th>0</th>\n",
       "      <td>772.230691</td>\n",
       "    </tr>\n",
       "    <tr>\n",
       "      <th>1</th>\n",
       "      <td>1089.382756</td>\n",
       "    </tr>\n",
       "    <tr>\n",
       "      <th>2</th>\n",
       "      <td>1129.833001</td>\n",
       "    </tr>\n",
       "    <tr>\n",
       "      <th>3</th>\n",
       "      <td>1414.806272</td>\n",
       "    </tr>\n",
       "    <tr>\n",
       "      <th>4</th>\n",
       "      <td>559.440039</td>\n",
       "    </tr>\n",
       "    <tr>\n",
       "      <th>...</th>\n",
       "      <td>...</td>\n",
       "    </tr>\n",
       "    <tr>\n",
       "      <th>1747</th>\n",
       "      <td>407.004086</td>\n",
       "    </tr>\n",
       "    <tr>\n",
       "      <th>1748</th>\n",
       "      <td>156.386131</td>\n",
       "    </tr>\n",
       "    <tr>\n",
       "      <th>1749</th>\n",
       "      <td>845.725215</td>\n",
       "    </tr>\n",
       "    <tr>\n",
       "      <th>1750</th>\n",
       "      <td>-155.707018</td>\n",
       "    </tr>\n",
       "    <tr>\n",
       "      <th>1751</th>\n",
       "      <td>1121.356359</td>\n",
       "    </tr>\n",
       "  </tbody>\n",
       "</table>\n",
       "<p>1752 rows × 1 columns</p>\n",
       "</div>"
      ],
      "text/plain": [
       "      Rented Bike Count\n",
       "0            772.230691\n",
       "1           1089.382756\n",
       "2           1129.833001\n",
       "3           1414.806272\n",
       "4            559.440039\n",
       "...                 ...\n",
       "1747         407.004086\n",
       "1748         156.386131\n",
       "1749         845.725215\n",
       "1750        -155.707018\n",
       "1751        1121.356359\n",
       "\n",
       "[1752 rows x 1 columns]"
      ]
     },
     "execution_count": 33,
     "metadata": {},
     "output_type": "execute_result"
    }
   ],
   "source": [
    "pca"
   ]
  },
  {
   "cell_type": "markdown",
   "id": "9cd673a3",
   "metadata": {
    "papermill": {
     "duration": 0.012474,
     "end_time": "2025-05-12T16:36:58.883225",
     "exception": false,
     "start_time": "2025-05-12T16:36:58.870751",
     "status": "completed"
    },
    "tags": []
   },
   "source": [
    "# Random Forest Regression"
   ]
  },
  {
   "cell_type": "code",
   "execution_count": 34,
   "id": "2a1c4423",
   "metadata": {
    "execution": {
     "iopub.execute_input": "2025-05-12T16:36:58.910023Z",
     "iopub.status.busy": "2025-05-12T16:36:58.909643Z",
     "iopub.status.idle": "2025-05-12T16:36:58.915215Z",
     "shell.execute_reply": "2025-05-12T16:36:58.914291Z"
    },
    "papermill": {
     "duration": 0.020778,
     "end_time": "2025-05-12T16:36:58.916760",
     "exception": false,
     "start_time": "2025-05-12T16:36:58.895982",
     "status": "completed"
    },
    "tags": []
   },
   "outputs": [
    {
     "data": {
      "text/plain": [
       "34"
      ]
     },
     "execution_count": 34,
     "metadata": {},
     "output_type": "execute_result"
    }
   ],
   "source": [
    "X_train_dummies.shape[1]"
   ]
  },
  {
   "cell_type": "code",
   "execution_count": 35,
   "id": "617912d4",
   "metadata": {
    "execution": {
     "iopub.execute_input": "2025-05-12T16:36:58.943821Z",
     "iopub.status.busy": "2025-05-12T16:36:58.943438Z",
     "iopub.status.idle": "2025-05-12T16:36:58.949150Z",
     "shell.execute_reply": "2025-05-12T16:36:58.948241Z"
    },
    "papermill": {
     "duration": 0.021008,
     "end_time": "2025-05-12T16:36:58.950659",
     "exception": false,
     "start_time": "2025-05-12T16:36:58.929651",
     "status": "completed"
    },
    "tags": []
   },
   "outputs": [
    {
     "data": {
      "text/plain": [
       "5.830951894845301"
      ]
     },
     "execution_count": 35,
     "metadata": {},
     "output_type": "execute_result"
    }
   ],
   "source": [
    "X_train_dummies.shape[1] ** 0.5"
   ]
  },
  {
   "cell_type": "code",
   "execution_count": 36,
   "id": "3ff1a4af",
   "metadata": {
    "execution": {
     "iopub.execute_input": "2025-05-12T16:36:58.978336Z",
     "iopub.status.busy": "2025-05-12T16:36:58.977968Z",
     "iopub.status.idle": "2025-05-12T16:36:58.984056Z",
     "shell.execute_reply": "2025-05-12T16:36:58.982957Z"
    },
    "papermill": {
     "duration": 0.021748,
     "end_time": "2025-05-12T16:36:58.985637",
     "exception": false,
     "start_time": "2025-05-12T16:36:58.963889",
     "status": "completed"
    },
    "tags": []
   },
   "outputs": [
    {
     "data": {
      "text/plain": [
       "5.087462841250339"
      ]
     },
     "execution_count": 36,
     "metadata": {},
     "output_type": "execute_result"
    }
   ],
   "source": [
    "np.log2(X_train_dummies.shape[1])"
   ]
  },
  {
   "cell_type": "code",
   "execution_count": 37,
   "id": "8cc6bb0c",
   "metadata": {
    "execution": {
     "iopub.execute_input": "2025-05-12T16:36:59.013273Z",
     "iopub.status.busy": "2025-05-12T16:36:59.012834Z",
     "iopub.status.idle": "2025-05-12T16:42:49.836502Z",
     "shell.execute_reply": "2025-05-12T16:42:49.835325Z"
    },
    "papermill": {
     "duration": 350.851053,
     "end_time": "2025-05-12T16:42:49.849914",
     "exception": false,
     "start_time": "2025-05-12T16:36:58.998861",
     "status": "completed"
    },
    "tags": []
   },
   "outputs": [
    {
     "name": "stdout",
     "output_type": "stream",
     "text": [
      "{'max_depth': 20, 'max_features': 30, 'n_estimators': 500}\n",
      "Best cross-validation RMSE score: 179.66614516697905\n"
     ]
    }
   ],
   "source": [
    "rfr = RandomForestRegressor()\n",
    "param_grid_rf = {\n",
    "    'n_estimators': [300, 400, 500],\n",
    "    'max_depth': [15, 20, 25],\n",
    "    'max_features': [20, 30, 40]\n",
    "}\n",
    "\n",
    "grid_search_rf = GridSearchCV(\n",
    "    estimator = rfr,\n",
    "    param_grid = param_grid_rf,\n",
    "    cv = 3,\n",
    "    scoring = 'neg_root_mean_squared_error',\n",
    "    n_jobs = -1\n",
    ")\n",
    "\n",
    "grid_search_rf.fit(X_train_dummies, y_train)\n",
    "\n",
    "print(grid_search_rf.best_params_)\n",
    "print(f\"Best cross-validation RMSE score: {- grid_search_rf.best_score_}\")"
   ]
  },
  {
   "cell_type": "code",
   "execution_count": 38,
   "id": "60459bd6",
   "metadata": {
    "execution": {
     "iopub.execute_input": "2025-05-12T16:42:49.877428Z",
     "iopub.status.busy": "2025-05-12T16:42:49.877028Z",
     "iopub.status.idle": "2025-05-12T16:42:50.132555Z",
     "shell.execute_reply": "2025-05-12T16:42:50.131678Z"
    },
    "papermill": {
     "duration": 0.271433,
     "end_time": "2025-05-12T16:42:50.134516",
     "exception": false,
     "start_time": "2025-05-12T16:42:49.863083",
     "status": "completed"
    },
    "tags": []
   },
   "outputs": [],
   "source": [
    "best_rf_model = grid_search_rf.best_estimator_\n",
    "rf_predictions = best_rf_model.predict(X_test_dummies)\n",
    "rf = pd.DataFrame({\n",
    "    'Rented Bike Count': rf_predictions\n",
    "})"
   ]
  },
  {
   "cell_type": "code",
   "execution_count": 39,
   "id": "b9106d9d",
   "metadata": {
    "execution": {
     "iopub.execute_input": "2025-05-12T16:42:50.162086Z",
     "iopub.status.busy": "2025-05-12T16:42:50.161747Z",
     "iopub.status.idle": "2025-05-12T16:42:50.170992Z",
     "shell.execute_reply": "2025-05-12T16:42:50.170104Z"
    },
    "papermill": {
     "duration": 0.024747,
     "end_time": "2025-05-12T16:42:50.172589",
     "exception": false,
     "start_time": "2025-05-12T16:42:50.147842",
     "status": "completed"
    },
    "tags": []
   },
   "outputs": [
    {
     "data": {
      "text/html": [
       "<div>\n",
       "<style scoped>\n",
       "    .dataframe tbody tr th:only-of-type {\n",
       "        vertical-align: middle;\n",
       "    }\n",
       "\n",
       "    .dataframe tbody tr th {\n",
       "        vertical-align: top;\n",
       "    }\n",
       "\n",
       "    .dataframe thead th {\n",
       "        text-align: right;\n",
       "    }\n",
       "</style>\n",
       "<table border=\"1\" class=\"dataframe\">\n",
       "  <thead>\n",
       "    <tr style=\"text-align: right;\">\n",
       "      <th></th>\n",
       "      <th>Rented Bike Count</th>\n",
       "    </tr>\n",
       "  </thead>\n",
       "  <tbody>\n",
       "    <tr>\n",
       "      <th>0</th>\n",
       "      <td>1725.712169</td>\n",
       "    </tr>\n",
       "    <tr>\n",
       "      <th>1</th>\n",
       "      <td>726.294139</td>\n",
       "    </tr>\n",
       "    <tr>\n",
       "      <th>2</th>\n",
       "      <td>678.204817</td>\n",
       "    </tr>\n",
       "    <tr>\n",
       "      <th>3</th>\n",
       "      <td>2301.816704</td>\n",
       "    </tr>\n",
       "    <tr>\n",
       "      <th>4</th>\n",
       "      <td>800.114067</td>\n",
       "    </tr>\n",
       "    <tr>\n",
       "      <th>...</th>\n",
       "      <td>...</td>\n",
       "    </tr>\n",
       "    <tr>\n",
       "      <th>1747</th>\n",
       "      <td>206.700440</td>\n",
       "    </tr>\n",
       "    <tr>\n",
       "      <th>1748</th>\n",
       "      <td>62.997000</td>\n",
       "    </tr>\n",
       "    <tr>\n",
       "      <th>1749</th>\n",
       "      <td>237.067663</td>\n",
       "    </tr>\n",
       "    <tr>\n",
       "      <th>1750</th>\n",
       "      <td>317.304150</td>\n",
       "    </tr>\n",
       "    <tr>\n",
       "      <th>1751</th>\n",
       "      <td>671.527326</td>\n",
       "    </tr>\n",
       "  </tbody>\n",
       "</table>\n",
       "<p>1752 rows × 1 columns</p>\n",
       "</div>"
      ],
      "text/plain": [
       "      Rented Bike Count\n",
       "0           1725.712169\n",
       "1            726.294139\n",
       "2            678.204817\n",
       "3           2301.816704\n",
       "4            800.114067\n",
       "...                 ...\n",
       "1747         206.700440\n",
       "1748          62.997000\n",
       "1749         237.067663\n",
       "1750         317.304150\n",
       "1751         671.527326\n",
       "\n",
       "[1752 rows x 1 columns]"
      ]
     },
     "execution_count": 39,
     "metadata": {},
     "output_type": "execute_result"
    }
   ],
   "source": [
    "rf"
   ]
  },
  {
   "cell_type": "markdown",
   "id": "7dab2e36",
   "metadata": {
    "papermill": {
     "duration": 0.01332,
     "end_time": "2025-05-12T16:42:50.200308",
     "exception": false,
     "start_time": "2025-05-12T16:42:50.186988",
     "status": "completed"
    },
    "tags": []
   },
   "source": [
    "# Model Comparison"
   ]
  },
  {
   "cell_type": "markdown",
   "id": "850b3fee",
   "metadata": {
    "papermill": {
     "duration": 0.01323,
     "end_time": "2025-05-12T16:42:50.227525",
     "exception": false,
     "start_time": "2025-05-12T16:42:50.214295",
     "status": "completed"
    },
    "tags": []
   },
   "source": [
    "The Random Forest model resulted in the best RMSE, followed by Elastic Net, then PCA. Elastic Net and PCA regression tend to be less flexible and avoid overfitting, with high bias and low variance. Random Forest has lower bias and higher variance. The Elastic Net model is the most interpretable. In this case, accuracy is more important than interpretibility, so Random Forest is the best option. The Random Forest RMSE is also half that of the other two models, so it performed considerably better. "
   ]
  }
 ],
 "metadata": {
  "kaggle": {
   "accelerator": "none",
   "dataSources": [
    {
     "datasetId": 6992515,
     "sourceId": 11199531,
     "sourceType": "datasetVersion"
    }
   ],
   "dockerImageVersionId": 30918,
   "isGpuEnabled": false,
   "isInternetEnabled": true,
   "language": "python",
   "sourceType": "notebook"
  },
  "kernelspec": {
   "display_name": "Python 3",
   "language": "python",
   "name": "python3"
  },
  "language_info": {
   "codemirror_mode": {
    "name": "ipython",
    "version": 3
   },
   "file_extension": ".py",
   "mimetype": "text/x-python",
   "name": "python",
   "nbconvert_exporter": "python",
   "pygments_lexer": "ipython3",
   "version": "3.10.12"
  },
  "papermill": {
   "default_parameters": {},
   "duration": 533.06991,
   "end_time": "2025-05-12T16:42:51.063024",
   "environment_variables": {},
   "exception": null,
   "input_path": "__notebook__.ipynb",
   "output_path": "__notebook__.ipynb",
   "parameters": {},
   "start_time": "2025-05-12T16:33:57.993114",
   "version": "2.6.0"
  }
 },
 "nbformat": 4,
 "nbformat_minor": 5
}
